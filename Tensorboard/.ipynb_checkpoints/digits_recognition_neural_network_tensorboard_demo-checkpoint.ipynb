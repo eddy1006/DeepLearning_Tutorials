{
 "cells": [
  {
   "cell_type": "markdown",
   "metadata": {},
   "source": [
    "<h2 style=\"color:blue\" align=\"center\">Tensorboard demo using handwritten digits classification using neural network</h2>"
   ]
  },
  {
   "cell_type": "markdown",
   "metadata": {},
   "source": [
    "In this notebook we will classify handwritten digits using a simple neural network which has only input and output layers. We will than add a hidden layer and see how the performance of the model improves"
   ]
  },
  {
   "cell_type": "code",
   "execution_count": 1,
   "metadata": {},
   "outputs": [],
   "source": [
    "import tensorflow as tf\n",
    "from tensorflow import keras\n",
    "import matplotlib.pyplot as plt\n",
    "%matplotlib inline\n",
    "import numpy as np"
   ]
  },
  {
   "cell_type": "code",
   "execution_count": 2,
   "metadata": {},
   "outputs": [],
   "source": [
    "(X_train, y_train) , (X_test, y_test) = keras.datasets.mnist.load_data()"
   ]
  },
  {
   "cell_type": "code",
   "execution_count": 3,
   "metadata": {},
   "outputs": [
    {
     "data": {
      "text/plain": [
       "60000"
      ]
     },
     "execution_count": 3,
     "metadata": {},
     "output_type": "execute_result"
    }
   ],
   "source": [
    "len(X_train)"
   ]
  },
  {
   "cell_type": "code",
   "execution_count": 4,
   "metadata": {},
   "outputs": [
    {
     "data": {
      "text/plain": [
       "10000"
      ]
     },
     "execution_count": 4,
     "metadata": {},
     "output_type": "execute_result"
    }
   ],
   "source": [
    "len(X_test)"
   ]
  },
  {
   "cell_type": "code",
   "execution_count": 5,
   "metadata": {},
   "outputs": [
    {
     "data": {
      "text/plain": [
       "(28, 28)"
      ]
     },
     "execution_count": 5,
     "metadata": {},
     "output_type": "execute_result"
    }
   ],
   "source": [
    "X_train[0].shape"
   ]
  },
  {
   "cell_type": "code",
   "execution_count": 6,
   "metadata": {},
   "outputs": [
    {
     "data": {
      "text/plain": [
       "<matplotlib.image.AxesImage at 0x217feeda8b0>"
      ]
     },
     "execution_count": 6,
     "metadata": {},
     "output_type": "execute_result"
    },
    {
     "data": {
      "image/png": "[encoded data removed]",
      "text/plain": [
       "<Figure size 288x288 with 1 Axes>"
      ]
     },
     "metadata": {
      "needs_background": "light"
     },
     "output_type": "display_data"
    }
   ],
   "source": [
    "plt.matshow(X_train[0])"
   ]
  },
  {
   "cell_type": "code",
   "execution_count": 7,
   "metadata": {},
   "outputs": [
    {
     "data": {
      "text/plain": [
       "5"
      ]
     },
     "execution_count": 7,
     "metadata": {},
     "output_type": "execute_result"
    }
   ],
   "source": [
    "y_train[0]"
   ]
  },
  {
   "cell_type": "code",
   "execution_count": 8,
   "metadata": {},
   "outputs": [],
   "source": [
    "X_train = X_train / 255\n",
    "X_test = X_test / 255"
   ]
  },
  {
   "cell_type": "code",
   "execution_count": 9,
   "metadata": {},
   "outputs": [],
   "source": [
    "X_train_flattened = X_train.reshape(len(X_train), 28*28)\n",
    "X_test_flattened = X_test.reshape(len(X_test), 28*28)"
   ]
  },
  {
   "cell_type": "code",
   "execution_count": 10,
   "metadata": {},
   "outputs": [
    {
     "data": {
      "text/plain": [
       "(60000, 784)"
      ]
     },
     "execution_count": 10,
     "metadata": {},
     "output_type": "execute_result"
    }
   ],
   "source": [
    "X_train_flattened.shape"
   ]
  },
  {
   "cell_type": "markdown",
   "metadata": {},
   "source": [
    "<h3 style='color:purple'>Using Flatten layer so that we don't have to call .reshape on input dataset</h3>"
   ]
  },
  {
   "cell_type": "code",
   "execution_count": 11,
   "metadata": {
    "scrolled": false
   },
   "outputs": [
    {
     "name": "stdout",
     "output_type": "stream",
     "text": [
      "Epoch 1/5\n",
      "1875/1875 [==============================] - 5s 2ms/step - loss: 0.2738 - accuracy: 0.9231\n",
      "Epoch 2/5\n",
      "1875/1875 [==============================] - 4s 2ms/step - loss: 0.1255 - accuracy: 0.9632\n",
      "Epoch 3/5\n",
      "1875/1875 [==============================] - 4s 2ms/step - loss: 0.0885 - accuracy: 0.9736\n",
      "Epoch 4/5\n",
      "1875/1875 [==============================] - 4s 2ms/step - loss: 0.0682 - accuracy: 0.9794\n",
      "Epoch 5/5\n",
      "1875/1875 [==============================] - 4s 2ms/step - loss: 0.0530 - accuracy: 0.9837\n"
     ]
    },
    {
     "data": {
      "text/plain": [
       "<keras.callbacks.History at 0x217801b4550>"
      ]
     },
     "execution_count": 11,
     "metadata": {},
     "output_type": "execute_result"
    }
   ],
   "source": [
    "model = keras.Sequential([\n",
    "    keras.layers.Flatten(input_shape=(28, 28)),\n",
    "    keras.layers.Dense(100, activation='relu'),\n",
    "    keras.layers.Dense(10, activation='sigmoid')\n",
    "])\n",
    "\n",
    "model.compile(optimizer='adam',\n",
    "              loss='sparse_categorical_crossentropy',\n",
    "              metrics=['accuracy'])\n",
    "\n",
    "tb_callback = tf.keras.callbacks.TensorBoard(log_dir=\"logs/\", histogram_freq=1)\n",
    "\n",
    "model.fit(X_train, y_train, epochs=5, callbacks=[tb_callback])"
   ]
  },
  {
   "cell_type": "code",
   "execution_count": 12,
   "metadata": {},
   "outputs": [
    {
     "data": {
      "text/plain": [
       "Reusing TensorBoard on port 6006 (pid 9920), started 0:07:21 ago. (Use '!kill 9920' to kill it.)"
      ]
     },
     "metadata": {},
     "output_type": "display_data"
    },
    {
     "data": {
      "text/html": [
       "\n",
       "      <iframe id=\"tensorboard-frame-387dfac088ecd99c\" width=\"100%\" height=\"800\" frameborder=\"0\">\n",
       "      </iframe>\n",
       "      <script>\n",
       "        (function() {\n",
       "          const frame = document.getElementById(\"tensorboard-frame-387dfac088ecd99c\");\n",
       "          const url = new URL(\"/\", window.location);\n",
       "          const port = 6006;\n",
       "          if (port) {\n",
       "            url.port = port;\n",
       "          }\n",
       "          frame.src = url;\n",
       "        })();\n",
       "      </script>\n",
       "    "
      ],
      "text/plain": [
       "<IPython.core.display.HTML object>"
      ]
     },
     "metadata": {},
     "output_type": "display_data"
    }
   ],
   "source": [
    "%load_ext tensorboard\n",
    "%tensorboard --logdir logs/train"
   ]
  },
  {
   "cell_type": "code",
   "execution_count": 13,
   "metadata": {},
   "outputs": [],
   "source": [
    "%reload_ext tensorboard"
   ]
  },
  {
   "cell_type": "markdown",
   "metadata": {},
   "source": [
    "Either run above inline magic or go to git bash or your command prompt and type below to run it,\n",
    "`tensorboard --logdir logs/`\n",
    "This will launch tensorboard at this url which you can open in your browser `http://localhost:6006/`"
   ]
  },
  {
   "cell_type": "code",
   "execution_count": 14,
   "metadata": {},
   "outputs": [
    {
     "data": {
      "text/plain": [
       "[array([[ 0.02287038,  0.04324336, -0.07225294, ..., -0.0558374 ,\n",
       "         -0.01808617, -0.05548052],\n",
       "        [ 0.05944151, -0.01297788, -0.00119855, ..., -0.04334681,\n",
       "          0.04549719,  0.07371394],\n",
       "        [-0.04547026, -0.00024297, -0.0189109 , ..., -0.05133312,\n",
       "          0.02847129,  0.05420192],\n",
       "        ...,\n",
       "        [ 0.02960824, -0.02619546,  0.01682969, ...,  0.03226944,\n",
       "          0.04907863, -0.03729837],\n",
       "        [ 0.03671205,  0.03230085, -0.01008793, ..., -0.05755843,\n",
       "          0.01769134,  0.0777676 ],\n",
       "        [-0.03758141,  0.01287819,  0.0139627 , ...,  0.03208465,\n",
       "         -0.05415479, -0.00322922]], dtype=float32),\n",
       " array([-0.06967086,  0.12483274,  0.05393897,  0.16474055,  0.011501  ,\n",
       "        -0.1738938 ,  0.09418134,  0.01916514,  0.09395308,  0.02804829,\n",
       "        -0.05282057, -0.08947854, -0.11480246,  0.00916298,  0.04980734,\n",
       "        -0.03905539,  0.00782039,  0.04970506,  0.06871366,  0.12783735,\n",
       "        -0.05918289,  0.05650241,  0.06671742, -0.05544784,  0.10431319,\n",
       "         0.18286403, -0.02104913,  0.0609368 ,  0.05139313,  0.01873703,\n",
       "        -0.00080002, -0.07753796, -0.02678692,  0.13068974, -0.12998089,\n",
       "        -0.16623232,  0.20401976, -0.08419421, -0.03464169, -0.09392373,\n",
       "        -0.07407092,  0.10415675, -0.03577068,  0.16755837,  0.05212618,\n",
       "         0.06282048,  0.07426976,  0.15704258, -0.02522543, -0.08575062,\n",
       "         0.04215231, -0.05733161, -0.00184439,  0.1837786 , -0.07101735,\n",
       "         0.09636806,  0.16791302, -0.17913504,  0.02842146, -0.03992208,\n",
       "         0.08936797,  0.12880352,  0.05920481,  0.01336835, -0.02724308,\n",
       "         0.16929732,  0.05468195,  0.17206287,  0.05048839,  0.09366546,\n",
       "        -0.13821955, -0.02115445,  0.02178609, -0.210202  ,  0.0060833 ,\n",
       "         0.10020902,  0.02275599,  0.07982671,  0.10402516,  0.13235363,\n",
       "        -0.06096319,  0.08380903,  0.00517779,  0.05749411, -0.02874909,\n",
       "         0.07718863,  0.06809137, -0.03050963,  0.13431516,  0.17377989,\n",
       "        -0.00991758, -0.02353259, -0.01916892,  0.00520451,  0.16187668,\n",
       "         0.12024757, -0.10522437, -0.09263007,  0.10529341,  0.14008461],\n",
       "       dtype=float32),\n",
       " array([[ 1.75642446e-01, -2.57419497e-01,  9.19514969e-02,\n",
       "          1.54533222e-01,  3.39757204e-02, -1.26179934e-01,\n",
       "          8.22054297e-02, -3.00360352e-01,  1.89922765e-01,\n",
       "         -5.59092611e-02],\n",
       "        [ 1.36038482e-01,  4.82810825e-01, -7.80344546e-01,\n",
       "         -4.61871773e-01, -2.85883904e-01,  2.14116007e-01,\n",
       "          4.69064806e-03,  1.77562684e-01, -4.07628059e-01,\n",
       "         -6.66688457e-02],\n",
       "        [-4.81640458e-01,  4.16967243e-01, -5.97824380e-02,\n",
       "         -3.22760820e-01,  1.58216640e-01, -8.48369956e-01,\n",
       "         -5.49348831e-01,  2.68554717e-01, -9.13917124e-02,\n",
       "         -2.29178995e-01],\n",
       "        [ 1.39569595e-01,  1.73283890e-01,  2.20435277e-01,\n",
       "          5.87663986e-03, -6.52436197e-01,  6.35591090e-01,\n",
       "         -4.92721707e-01, -1.49326399e-01, -2.98071057e-01,\n",
       "         -1.06206656e-01],\n",
       "        [-2.39661671e-02,  3.14370364e-01,  6.67013079e-02,\n",
       "          1.88729301e-01,  1.71788558e-01,  1.64683953e-01,\n",
       "          1.88621402e-01, -1.62258312e-01, -5.38196564e-01,\n",
       "         -4.72471744e-01],\n",
       "        [ 9.56800953e-02, -4.67072912e-02,  7.38130286e-02,\n",
       "          2.76669979e-01, -3.95178229e-01, -6.02606654e-01,\n",
       "         -8.94591771e-03,  2.49643046e-02,  1.06381185e-01,\n",
       "          1.52101487e-01],\n",
       "        [-3.61891121e-01,  2.25385368e-01,  1.90950796e-01,\n",
       "         -4.79011297e-01,  2.07260042e-01, -2.60945976e-01,\n",
       "         -2.88342424e-02,  2.45400921e-01,  3.72415632e-01,\n",
       "         -2.85504043e-01],\n",
       "        [-3.47892344e-01, -4.73799765e-01, -2.08068751e-02,\n",
       "          7.47906089e-01, -5.45194328e-01,  3.55403572e-01,\n",
       "         -4.74367857e-01, -2.67120898e-01, -2.92160958e-01,\n",
       "          4.06270653e-01],\n",
       "        [-1.15051456e-01,  3.02818269e-01,  1.95999190e-01,\n",
       "          2.15349033e-01, -1.66091114e-01,  1.70553848e-01,\n",
       "          1.98453575e-01, -2.26001516e-01,  2.26249099e-01,\n",
       "         -3.18809181e-01],\n",
       "        [-1.74407810e-01, -3.56861413e-01,  3.44845682e-01,\n",
       "          1.84563518e-01, -3.94521385e-01,  3.57826889e-01,\n",
       "          3.02357614e-01,  3.01952183e-01,  1.30445868e-01,\n",
       "         -3.63729388e-01],\n",
       "        [ 2.55006611e-01,  1.08518228e-01,  1.85377598e-01,\n",
       "         -3.38358283e-01, -1.12903431e-01, -5.00453830e-01,\n",
       "         -1.72871321e-01, -2.83996373e-01,  9.86567810e-02,\n",
       "         -5.05140238e-02],\n",
       "        [ 2.51626760e-01, -7.86787830e-03, -3.98458242e-01,\n",
       "          2.47494936e-01,  2.92968631e-01,  2.68316448e-01,\n",
       "          3.12207758e-01, -1.58591434e-01, -4.74908113e-01,\n",
       "         -5.64006604e-02],\n",
       "        [ 2.89794922e-01, -2.08097324e-01, -6.08550012e-01,\n",
       "          8.08357075e-02,  1.96574017e-01, -2.89609641e-01,\n",
       "          6.29720464e-02, -6.62571657e-03, -1.56844407e-01,\n",
       "          2.34579965e-01],\n",
       "        [-5.79937756e-01, -3.79471540e-01, -8.95929486e-02,\n",
       "          5.07739842e-01, -5.86010218e-01,  3.59327137e-01,\n",
       "         -7.50314236e-01,  3.82983595e-01, -8.47217202e-01,\n",
       "          3.54607880e-01],\n",
       "        [ 1.07025586e-01, -5.13100959e-02,  3.02075803e-01,\n",
       "          3.86881411e-01,  1.45875037e-01,  5.29184192e-02,\n",
       "         -2.70974457e-01,  3.85785177e-02, -1.73261955e-01,\n",
       "         -6.01423383e-01],\n",
       "        [ 2.45502636e-01, -6.60652220e-02,  1.14967011e-01,\n",
       "          8.23897347e-02, -3.86099428e-01,  1.48175091e-01,\n",
       "          1.44468740e-01, -4.01311249e-01,  1.84111521e-01,\n",
       "         -8.60904008e-02],\n",
       "        [-4.12567526e-01, -2.46642247e-01,  3.40356901e-02,\n",
       "          2.50201404e-01,  1.69271961e-01, -2.26852179e-01,\n",
       "         -2.81464934e-01,  1.01858512e-01,  1.36615098e-01,\n",
       "          2.14707196e-01],\n",
       "        [ 1.43568456e-01, -8.61804307e-01, -8.45642209e-01,\n",
       "         -4.17747319e-01,  1.96223155e-01,  2.57936656e-01,\n",
       "         -6.13546744e-02,  2.03758910e-01, -8.23057145e-02,\n",
       "         -1.56316519e-01],\n",
       "        [ 5.18745594e-02, -2.20357344e-01,  3.31554323e-01,\n",
       "          1.83812141e-01, -7.42367029e-01,  3.33955556e-01,\n",
       "          1.27663061e-01,  1.58999816e-01,  2.23474968e-02,\n",
       "         -5.47800243e-01],\n",
       "        [-3.14079762e-01, -2.21904129e-01,  2.47121856e-01,\n",
       "         -3.67460191e-01,  9.90363806e-02,  2.44879186e-01,\n",
       "         -1.66312736e-02,  3.00224602e-01, -2.85438120e-01,\n",
       "          2.50417560e-01],\n",
       "        [-7.92224705e-01, -3.14832538e-01, -4.32320952e-01,\n",
       "          1.87353536e-01,  1.10563472e-01,  2.37971172e-01,\n",
       "         -5.57948470e-01, -4.51588035e-01, -5.90597987e-02,\n",
       "          1.49017856e-01],\n",
       "        [ 1.93181247e-01, -4.74112839e-01, -2.45744381e-02,\n",
       "         -2.75873005e-01,  1.43391073e-01, -1.38446195e-02,\n",
       "          1.79900244e-01,  1.66375458e-01,  1.20595746e-01,\n",
       "          2.45611489e-01],\n",
       "        [ 2.25211143e-01, -3.97662669e-01,  2.80056205e-02,\n",
       "         -1.35263428e-01,  2.76847064e-01,  1.24188662e-01,\n",
       "          1.04781426e-03, -2.00428382e-01,  1.20857053e-01,\n",
       "          1.61441788e-01],\n",
       "        [ 9.19438377e-02,  3.80822904e-02,  2.53653973e-01,\n",
       "         -6.44506589e-02, -5.97122550e-01, -4.23704207e-01,\n",
       "         -4.26462322e-01,  2.85821825e-01,  4.52139117e-02,\n",
       "         -1.25986129e-01],\n",
       "        [ 9.04115811e-02, -1.39375553e-01, -1.52556658e-01,\n",
       "         -5.57495207e-02,  2.38526966e-02,  2.21814752e-01,\n",
       "          2.15829492e-01, -4.31297749e-01,  1.52644128e-01,\n",
       "         -1.09450765e-01],\n",
       "        [-6.66000783e-01,  2.98863381e-01, -1.69234484e-01,\n",
       "         -2.03432009e-01,  6.66528106e-01, -2.74955392e-01,\n",
       "          3.05320978e-01,  1.54966861e-01, -4.28752862e-02,\n",
       "         -6.47952318e-01],\n",
       "        [ 9.28538367e-02, -2.90638596e-01, -1.34221330e-01,\n",
       "          3.20297778e-01, -4.97906864e-01,  3.30138743e-01,\n",
       "          1.48744360e-01,  2.26734757e-01, -2.09566459e-01,\n",
       "          3.26689184e-01],\n",
       "        [-2.25557640e-01,  5.13811827e-01,  1.81937125e-02,\n",
       "         -1.53761074e-01,  4.31200504e-01, -1.91364020e-01,\n",
       "         -5.63891530e-01, -2.05663547e-01, -7.79179096e-01,\n",
       "          1.03580959e-01],\n",
       "        [ 1.39514342e-01,  4.85413879e-01,  1.47418320e-01,\n",
       "         -9.25143361e-02,  3.21811497e-01, -2.26307493e-02,\n",
       "          6.08030781e-02, -4.88469042e-02, -5.91966391e-01,\n",
       "          3.95469904e-01],\n",
       "        [-1.64155215e-01,  3.29191566e-01,  2.31238887e-01,\n",
       "         -3.78462493e-01, -2.56284177e-01, -5.21451771e-01,\n",
       "          3.19036186e-01,  3.51761699e-01, -2.29825944e-01,\n",
       "         -2.22083151e-01],\n",
       "        [-1.48674324e-01, -4.74865973e-01, -1.42462984e-01,\n",
       "         -2.19103545e-01, -3.74319643e-01, -1.97643355e-01,\n",
       "         -2.93751270e-01, -4.27073210e-01,  1.49715304e-01,\n",
       "          6.04881346e-01],\n",
       "        [ 2.24610299e-01, -5.42446896e-02,  1.04908220e-01,\n",
       "          5.31566180e-02, -8.10877562e-01,  1.21245973e-01,\n",
       "          1.52151391e-01, -3.51343453e-01,  1.10388428e-01,\n",
       "         -1.05762430e-01],\n",
       "        [ 2.26661935e-01, -3.30497861e-01, -5.45743555e-02,\n",
       "         -4.30230647e-01,  5.27535141e-01, -4.80612963e-01,\n",
       "         -1.52450457e-01,  4.42290366e-01, -2.80680925e-01,\n",
       "          2.22798586e-01],\n",
       "        [-3.60916406e-01,  2.13809490e-01, -1.64458290e-01,\n",
       "         -7.49634445e-01,  3.27354908e-01, -7.10834004e-03,\n",
       "          6.10563979e-02,  3.65409479e-02,  1.35013372e-01,\n",
       "         -2.22318828e-01],\n",
       "        [ 1.95869058e-01, -1.38767704e-01,  3.72619741e-03,\n",
       "          2.72742629e-01, -3.56181562e-01,  3.65595147e-02,\n",
       "         -5.79071224e-01,  2.05336943e-01,  2.50776798e-01,\n",
       "          1.50357872e-01],\n",
       "        [ 1.49782285e-01, -9.08696502e-02, -2.53986359e-01,\n",
       "          2.29488045e-01, -5.57472527e-01,  3.68987918e-02,\n",
       "          2.44885340e-01,  1.04554750e-01,  1.25521392e-01,\n",
       "          1.47768542e-01],\n",
       "        [-7.20037371e-02, -2.23660335e-01,  4.60038304e-01,\n",
       "         -3.62390727e-01,  2.98011929e-01, -1.27438322e-01,\n",
       "          2.47417212e-01, -4.85059321e-01, -2.99880892e-01,\n",
       "         -5.15781939e-01],\n",
       "        [ 1.37662739e-01, -6.25102520e-02,  1.58049807e-01,\n",
       "          9.61528495e-02, -1.04147680e-01,  1.45923361e-01,\n",
       "          2.09842160e-01, -1.10556327e-01,  1.18934013e-01,\n",
       "          9.75808948e-02],\n",
       "        [-1.42019361e-01, -2.76615638e-02,  1.67102009e-01,\n",
       "          2.23280191e-01, -2.81461865e-01,  1.86023548e-01,\n",
       "         -3.54797363e-01, -1.17376797e-01,  2.99644083e-01,\n",
       "          1.13270380e-01],\n",
       "        [ 2.34898612e-01, -4.29863036e-02, -7.99559616e-03,\n",
       "          1.94051027e-01,  8.30204710e-02,  5.92106394e-02,\n",
       "          2.10282132e-01, -4.49222296e-01,  1.57096803e-01,\n",
       "         -8.96846056e-02],\n",
       "        [ 2.10182115e-01,  1.05677452e-02, -4.62556221e-02,\n",
       "          1.66158885e-01, -7.25517452e-01,  2.20463887e-01,\n",
       "         -2.45979074e-02, -4.35805440e-01, -7.47845916e-05,\n",
       "          4.58932035e-02],\n",
       "        [-5.54063618e-01,  2.40510419e-01,  8.63332450e-02,\n",
       "         -5.23343980e-01, -2.15738535e-01,  1.87382147e-01,\n",
       "          3.53479862e-01, -7.86208212e-02,  1.78258210e-01,\n",
       "          1.06882781e-01],\n",
       "        [ 6.04088185e-03, -2.46803090e-02,  4.17738892e-02,\n",
       "          4.76508923e-02, -2.75663584e-01, -7.61637688e-02,\n",
       "         -4.08676296e-01, -1.48970082e-01,  2.13705465e-01,\n",
       "         -1.70409754e-01],\n",
       "        [-2.13847920e-01,  1.16670132e-01,  2.46536702e-01,\n",
       "         -4.36502010e-01, -2.58676708e-01,  1.55041486e-01,\n",
       "          1.79401413e-01, -2.28991091e-01,  1.00781418e-01,\n",
       "         -2.66856611e-01],\n",
       "        [-6.96599245e-01,  4.09698546e-01, -3.97640109e-01,\n",
       "          6.25777766e-02, -2.53560185e-01,  6.10487401e-01,\n",
       "         -3.14591348e-01,  2.04895124e-01, -6.14285409e-01,\n",
       "          1.71912342e-01],\n",
       "        [-4.69853908e-01,  7.70141035e-02,  2.71776736e-01,\n",
       "          1.47652045e-01, -2.97877580e-01,  1.51332334e-01,\n",
       "         -5.00341296e-01,  7.51556158e-02, -8.46967176e-02,\n",
       "         -3.83944996e-02],\n",
       "        [ 1.42095417e-01, -1.35936335e-01, -9.50389504e-02,\n",
       "         -5.08219838e-01,  1.41213462e-02,  2.44571283e-01,\n",
       "          3.10082156e-02, -2.42815822e-01,  2.00324044e-01,\n",
       "         -3.35229695e-01],\n",
       "        [-7.02955842e-01,  3.75668257e-02, -4.69591975e-01,\n",
       "         -1.83054864e-01,  9.48608443e-02,  2.12938040e-01,\n",
       "         -5.80055118e-01,  1.84388310e-01, -2.00930815e-02,\n",
       "          3.52757759e-02],\n",
       "        [ 1.31297469e-01,  9.31584090e-02, -1.63440585e-01,\n",
       "         -1.65261656e-01,  1.20912358e-01,  3.41546163e-02,\n",
       "         -1.51871309e-01, -2.20424067e-02,  2.70080715e-02,\n",
       "          1.75796717e-01],\n",
       "        [-9.21681300e-02,  1.53050393e-01,  1.66193619e-01,\n",
       "          2.61362404e-01,  8.97993892e-03, -5.87826848e-01,\n",
       "          1.53280899e-01, -2.31075227e-01,  1.68594662e-02,\n",
       "          1.48232743e-01],\n",
       "        [-8.51045251e-02,  2.58523196e-01,  3.44835460e-01,\n",
       "          1.64122775e-01,  2.58810341e-01, -2.18840152e-01,\n",
       "          7.23427013e-02, -4.23587084e-01, -1.96550339e-01,\n",
       "         -2.90276319e-01],\n",
       "        [ 1.54696360e-01,  2.48374902e-02,  5.29379845e-01,\n",
       "         -3.80034596e-01, -1.87288642e-01, -6.91302538e-01,\n",
       "         -2.45634347e-01, -2.90126830e-01, -2.60330215e-02,\n",
       "          5.13334453e-01],\n",
       "        [-5.34352422e-01,  1.01037942e-01,  3.98706883e-01,\n",
       "          1.64540112e-02, -6.13858283e-01, -1.86636269e-01,\n",
       "         -4.07923102e-01,  9.50836018e-02,  1.64196678e-02,\n",
       "         -8.05864513e-01],\n",
       "        [-4.86778002e-03, -7.03612566e-02,  2.36219227e-01,\n",
       "         -2.75353789e-01, -3.94370317e-01,  1.02334522e-01,\n",
       "          1.96180746e-01, -3.10925156e-01,  7.49638081e-02,\n",
       "         -2.06354976e-01],\n",
       "        [-4.64068711e-01,  2.92034626e-01,  1.61059365e-01,\n",
       "          5.08922696e-01,  2.51531631e-01, -8.20700347e-01,\n",
       "         -4.47880596e-01, -2.19239920e-01, -7.34129101e-02,\n",
       "          1.90857783e-01],\n",
       "        [ 2.08367512e-01,  1.14049755e-01,  2.94808596e-01,\n",
       "         -3.46867472e-01,  1.73322126e-01,  2.52313524e-01,\n",
       "         -6.17097378e-01,  3.52673769e-01, -5.31657159e-01,\n",
       "          2.28230044e-01],\n",
       "        [-1.89918168e-02,  2.76485085e-01, -2.56542504e-01,\n",
       "         -7.75218785e-01,  1.24338806e-01,  3.87608111e-01,\n",
       "          7.63453394e-02, -1.36083692e-01,  1.45394996e-01,\n",
       "         -5.47961816e-02],\n",
       "        [ 3.48166943e-01, -6.38349891e-01,  1.97105333e-01,\n",
       "         -4.36746590e-02, -3.06166768e-01, -4.20270890e-01,\n",
       "         -2.49606788e-01,  2.21212506e-02, -9.41587090e-02,\n",
       "          2.72730440e-01],\n",
       "        [ 2.22099811e-01, -4.03457135e-01,  7.71891847e-02,\n",
       "         -4.23111558e-01, -1.40213490e-01, -1.53958276e-01,\n",
       "          1.76503524e-01, -4.48492095e-02, -6.30969256e-02,\n",
       "          1.03608385e-01],\n",
       "        [ 1.93161950e-01, -2.54719649e-02, -1.54348955e-01,\n",
       "         -1.89769983e-01, -1.33138567e-01, -1.64739981e-01,\n",
       "          2.31523849e-02, -2.14946836e-01,  2.25812599e-01,\n",
       "         -1.65039495e-01],\n",
       "        [ 1.68056265e-01, -4.96897340e-01,  2.23812014e-01,\n",
       "         -3.46938580e-01, -3.31696123e-02, -1.38323650e-01,\n",
       "          3.12558979e-01,  2.23757342e-01, -4.17843789e-01,\n",
       "         -3.93892348e-01],\n",
       "        [ 1.46893919e-01, -7.78009295e-02, -2.30753943e-01,\n",
       "         -6.61789954e-01,  1.57636821e-01,  3.42476398e-01,\n",
       "          3.57970923e-01, -3.11927367e-02,  9.87349078e-02,\n",
       "         -3.75107735e-01],\n",
       "        [ 1.59076303e-01, -4.34609145e-01, -3.69576156e-01,\n",
       "          3.13477606e-01, -4.80882645e-01,  3.70161653e-01,\n",
       "          8.16879421e-02, -9.85391364e-02, -4.04385664e-02,\n",
       "          1.33570284e-02],\n",
       "        [-1.56803370e-01, -3.24178487e-01, -1.09976366e-01,\n",
       "         -8.59955102e-02,  3.68488505e-02, -1.26174048e-01,\n",
       "          1.32286429e-01,  4.28413115e-02,  2.07441226e-01,\n",
       "          2.16446191e-01],\n",
       "        [-2.43867218e-01, -1.46786660e-01, -3.30290526e-01,\n",
       "          2.30990082e-01,  1.43684864e-01,  3.48526746e-01,\n",
       "         -3.82000804e-01, -6.39509261e-01,  2.17257857e-01,\n",
       "          2.37274066e-01],\n",
       "        [-1.13587931e-01,  2.75570750e-01,  2.44560942e-01,\n",
       "          8.89851749e-02,  2.59055287e-01,  2.48483807e-01,\n",
       "         -4.83883619e-01, -9.69337821e-02, -7.27072418e-01,\n",
       "          2.58439898e-01],\n",
       "        [ 8.14644620e-02, -1.93841666e-01, -2.94760406e-01,\n",
       "          5.11838496e-02,  1.54718146e-01,  5.08737788e-02,\n",
       "         -3.04348230e-01,  2.19377503e-01,  1.58473253e-01,\n",
       "          9.05444026e-02],\n",
       "        [ 2.07552537e-01,  3.16690616e-02,  1.08641669e-01,\n",
       "         -1.23562850e-01, -2.90416747e-01, -7.83241391e-02,\n",
       "          9.61113945e-02,  2.16229394e-01, -7.80426919e-01,\n",
       "         -4.98214871e-01],\n",
       "        [-7.49080420e-01, -2.85253134e-02, -6.20856464e-01,\n",
       "          2.79037297e-01,  2.44521290e-01,  2.86416769e-01,\n",
       "         -6.06403172e-01, -4.84316051e-01,  4.46474086e-03,\n",
       "          1.87356532e-01],\n",
       "        [-4.94908601e-01,  8.09435919e-02,  1.11723885e-01,\n",
       "          1.01548381e-01,  1.67670965e-01, -2.80277759e-01,\n",
       "         -1.79190680e-01,  2.18134061e-01,  1.31292328e-01,\n",
       "         -5.94048239e-02],\n",
       "        [ 2.80383706e-01, -2.64427345e-03,  3.09351057e-01,\n",
       "          2.79953331e-01, -3.85784686e-01, -2.15002239e-01,\n",
       "         -6.03568375e-01,  3.05669338e-01, -2.72321045e-01,\n",
       "          2.86161363e-01],\n",
       "        [ 2.01233402e-01, -5.03390431e-01, -1.00708440e-01,\n",
       "          3.45800295e-02, -6.61912858e-02,  1.66279659e-01,\n",
       "         -3.25610578e-01,  1.41050607e-01, -1.80379562e-02,\n",
       "          1.85757369e-01],\n",
       "        [-5.90960443e-01,  1.72941640e-01,  1.67266920e-01,\n",
       "          1.90845922e-01, -2.14472815e-01,  1.51203245e-01,\n",
       "         -5.31181246e-02,  5.18395066e-01, -2.49503031e-01,\n",
       "         -1.15643549e+00],\n",
       "        [ 1.74591392e-01,  7.84675032e-02, -4.94517535e-01,\n",
       "         -1.03879541e-01,  1.85931742e-01, -2.43339077e-01,\n",
       "          5.21613121e-01,  2.85463870e-01, -2.86896080e-01,\n",
       "         -2.58904696e-01],\n",
       "        [ 8.09146017e-02,  1.91161022e-01,  3.20659317e-02,\n",
       "          3.70405614e-01, -1.88653246e-01, -3.80892634e-01,\n",
       "          2.69727528e-01,  1.70198336e-01, -4.07185942e-01,\n",
       "         -3.93071681e-01],\n",
       "        [-6.36412799e-02, -6.43757582e-01, -3.92037690e-01,\n",
       "          2.04917833e-01,  1.11083381e-01,  2.10270166e-01,\n",
       "          1.01905055e-02, -1.91781409e-02, -2.36496329e-02,\n",
       "         -2.21405700e-01],\n",
       "        [-3.42781007e-01,  9.25434008e-02, -2.39744291e-01,\n",
       "         -4.07830141e-02, -1.47755086e-01, -2.63793200e-01,\n",
       "         -2.64717728e-01, -1.74244940e-01,  1.92978859e-01,\n",
       "         -1.36325046e-01],\n",
       "        [ 3.89681399e-01,  9.78028402e-02,  2.68134266e-01,\n",
       "         -3.12870219e-02, -3.39260280e-01, -8.64424288e-01,\n",
       "          1.62020102e-01,  8.69619921e-02, -2.66227245e-01,\n",
       "          8.07741135e-02],\n",
       "        [-1.76403269e-01, -2.28559881e-01, -6.60384223e-02,\n",
       "         -1.62912142e-02,  2.17343405e-01, -7.69945234e-02,\n",
       "          1.39800191e-01, -2.23459750e-02,  2.33428955e-01,\n",
       "          1.31883860e-01],\n",
       "        [-4.96050492e-02, -4.97196853e-01,  1.48858935e-01,\n",
       "         -8.00543800e-02,  1.95156187e-01, -4.66660745e-02,\n",
       "         -4.68276441e-01,  3.19508016e-01,  6.59969151e-02,\n",
       "          8.47062767e-02],\n",
       "        [ 3.18845920e-02, -2.11725637e-01, -1.71383545e-01,\n",
       "          9.31392089e-02,  5.08779213e-02, -1.20759077e-01,\n",
       "         -4.65010464e-01,  1.49034068e-01,  1.80517107e-01,\n",
       "          1.38718948e-01],\n",
       "        [-1.87116563e-01, -4.78771418e-01, -3.33057106e-01,\n",
       "          1.47917807e-01, -1.01801110e-02,  3.80806357e-01,\n",
       "          2.59300411e-01, -3.56808245e-01,  2.53755242e-01,\n",
       "         -1.71093166e-01],\n",
       "        [ 2.63384789e-01, -2.18424216e-01,  1.86851069e-01,\n",
       "         -1.48180835e-02,  1.41560674e-01, -4.52238917e-01,\n",
       "          1.72652468e-01,  1.76635474e-01,  2.76028633e-01,\n",
       "          7.12451637e-02],\n",
       "        [-1.62423432e-01,  7.92685002e-02,  6.92806691e-02,\n",
       "          1.53328985e-01, -4.92273923e-03, -9.76633430e-02,\n",
       "          2.83961147e-02, -2.31062442e-01,  1.64145455e-01,\n",
       "         -1.98743254e-01],\n",
       "        [-4.37170744e-01,  1.93136841e-01,  1.87959045e-01,\n",
       "          2.54945695e-01,  1.12625510e-01,  3.61149788e-01,\n",
       "         -5.94165444e-01,  2.71419704e-01, -2.51077771e-01,\n",
       "         -6.69127107e-02],\n",
       "        [-7.50557244e-01,  1.62385508e-01, -3.59352157e-02,\n",
       "          1.33037329e-01,  2.29829520e-01,  9.29745957e-02,\n",
       "         -3.08866501e-01, -2.43862942e-01, -2.33768988e-02,\n",
       "          4.44326065e-02],\n",
       "        [-2.33576834e-01,  1.49654999e-01, -3.92519385e-01,\n",
       "         -5.23380518e-01, -3.21601927e-01,  1.16256408e-01,\n",
       "          1.88493207e-01,  1.24497823e-01,  3.67499106e-02,\n",
       "          3.74395549e-01],\n",
       "        [-3.10376734e-01, -4.11563665e-01,  1.62259862e-02,\n",
       "          4.13237661e-01, -2.84040093e-01, -1.61206932e-03,\n",
       "         -1.94372656e-03, -1.97361276e-01, -1.18610941e-01,\n",
       "         -4.46002424e-01],\n",
       "        [ 2.14529075e-02,  4.87307072e-01, -3.52463089e-02,\n",
       "         -3.42734993e-01,  5.35544813e-01, -5.56222200e-01,\n",
       "          7.18005002e-02,  2.10514113e-01, -2.80961394e-01,\n",
       "         -4.54330117e-01],\n",
       "        [-5.58251515e-02,  1.29477262e-01,  1.68264046e-01,\n",
       "         -7.21385852e-02, -1.21203363e-01,  1.29380330e-01,\n",
       "         -6.93923607e-02, -4.26843524e-01,  2.07386628e-01,\n",
       "         -1.00532159e-01],\n",
       "        [-1.99786603e-01,  3.94028991e-01, -4.57829714e-01,\n",
       "          6.41493872e-02,  1.20404258e-01, -4.81682777e-01,\n",
       "         -6.09913766e-02,  2.51195401e-01, -3.55811939e-02,\n",
       "          1.54775605e-01],\n",
       "        [ 1.62827224e-01, -2.08126545e-01,  1.75223693e-01,\n",
       "          1.36520684e-01,  6.52114488e-03, -2.08803620e-02,\n",
       "          2.09244475e-01,  5.12965396e-02,  2.12736994e-01,\n",
       "          4.29693460e-02],\n",
       "        [ 2.46420562e-01,  8.36135447e-02,  1.19460434e-01,\n",
       "         -2.39962712e-01,  2.76143938e-01, -3.01691979e-01,\n",
       "         -1.75252616e-01,  1.58685297e-01,  5.40174097e-02,\n",
       "          1.72628179e-01],\n",
       "        [-2.16374144e-01,  1.58568904e-01, -4.92187366e-02,\n",
       "         -1.19208142e-01,  1.63336292e-01, -1.20042287e-01,\n",
       "          3.99617910e-01, -1.52316093e-01, -7.75747538e-01,\n",
       "          3.90528053e-01],\n",
       "        [ 1.25437364e-01,  2.75731325e-01, -3.07614952e-01,\n",
       "          2.79955473e-02, -6.76663458e-01, -3.98658700e-02,\n",
       "         -7.33235627e-02,  4.77404296e-01, -5.67642599e-02,\n",
       "         -4.55138892e-01],\n",
       "        [-7.92652890e-02, -5.92571020e-01,  5.40579446e-02,\n",
       "          2.00955182e-01, -2.01023653e-01,  2.51618296e-01,\n",
       "          2.47375533e-01,  1.65419862e-01,  9.17463154e-02,\n",
       "         -5.46732187e-01],\n",
       "        [-1.39990402e-02,  3.76232982e-01, -6.99262917e-01,\n",
       "          3.97711471e-02, -1.11046851e-01,  7.57617801e-02,\n",
       "          2.98921436e-01,  1.16383269e-01, -2.15062156e-01,\n",
       "          1.82406783e-01],\n",
       "        [ 1.43879041e-01,  2.38454834e-01, -9.10533220e-02,\n",
       "          6.07150905e-02, -5.36773384e-01, -1.01514749e-01,\n",
       "         -5.34848928e-01,  1.76347360e-01,  1.01300187e-01,\n",
       "         -9.99172311e-03],\n",
       "        [-8.34804401e-02, -4.10372257e-01,  1.40255406e-01,\n",
       "         -3.73844087e-01,  2.59646893e-01,  1.19801499e-01,\n",
       "         -1.66673988e-01, -1.50160551e-01,  2.51362056e-01,\n",
       "          2.25411758e-01],\n",
       "        [ 3.14846635e-01,  2.84180135e-01,  2.73289114e-01,\n",
       "          1.45059094e-01, -3.96803468e-01,  1.60269231e-01,\n",
       "         -2.00242102e-01,  2.59041965e-01, -3.74820083e-01,\n",
       "         -6.45980537e-01]], dtype=float32),\n",
       " array([-0.21828339, -0.03252501,  0.05669183, -0.11836801,  0.10773817,\n",
       "         0.11956815, -0.02287849, -0.01968201,  0.12361941, -0.07721627],\n",
       "       dtype=float32)]"
      ]
     },
     "execution_count": 14,
     "metadata": {},
     "output_type": "execute_result"
    }
   ],
   "source": [
    "model.get_weights()"
   ]
  }
 ],
 "metadata": {
  "kernelspec": {
   "display_name": "Python 3",
   "language": "python",
   "name": "python3"
  },
  "language_info": {
   "codemirror_mode": {
    "name": "ipython",
    "version": 3
   },
   "file_extension": ".py",
   "mimetype": "text/x-python",
   "name": "python",
   "nbconvert_exporter": "python",
   "pygments_lexer": "ipython3",
   "version": "3.8.3"
  }
 },
 "nbformat": 4,
 "nbformat_minor": 4
}
